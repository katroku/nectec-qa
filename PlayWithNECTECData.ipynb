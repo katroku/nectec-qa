{
 "cells": [
  {
   "cell_type": "code",
   "execution_count": 6,
   "metadata": {},
   "outputs": [],
   "source": [
    "import pandas as pd"
   ]
  },
  {
   "cell_type": "code",
   "execution_count": 7,
   "metadata": {},
   "outputs": [],
   "source": [
    "df = pd.read_json('ThaiQACorpus-DevelopmentDataset.json')"
   ]
  },
  {
   "cell_type": "code",
   "execution_count": 8,
   "metadata": {},
   "outputs": [],
   "source": [
    "q1 = df.data.values[0]\n",
    "\n",
    "dataset = pd.DataFrame(pd.DataFrame(q1,index=[0]))\n",
    "j = 1\n",
    "for row in df.data.values[1:]:\n",
    "    temp = pd.DataFrame(row,index=[j])\n",
    "    dataset = dataset.append(temp)\n",
    "    j = j+1"
   ]
  },
  {
   "cell_type": "code",
   "execution_count": 9,
   "metadata": {
    "scrolled": false
   },
   "outputs": [
    {
     "data": {
      "text/html": [
       "<div>\n",
       "<style scoped>\n",
       "    .dataframe tbody tr th:only-of-type {\n",
       "        vertical-align: middle;\n",
       "    }\n",
       "\n",
       "    .dataframe tbody tr th {\n",
       "        vertical-align: top;\n",
       "    }\n",
       "\n",
       "    .dataframe thead th {\n",
       "        text-align: right;\n",
       "    }\n",
       "</style>\n",
       "<table border=\"1\" class=\"dataframe\">\n",
       "  <thead>\n",
       "    <tr style=\"text-align: right;\">\n",
       "      <th></th>\n",
       "      <th>question_id</th>\n",
       "      <th>question</th>\n",
       "      <th>answer</th>\n",
       "      <th>answer_begin_position</th>\n",
       "      <th>answer_end_position</th>\n",
       "      <th>article_id</th>\n",
       "    </tr>\n",
       "  </thead>\n",
       "  <tbody>\n",
       "    <tr>\n",
       "      <th>0</th>\n",
       "      <td>1</td>\n",
       "      <td>สุนัขตัวแรกรับบทเป็นเบนจี้ในภาพยนตร์เรื่อง Ben...</td>\n",
       "      <td>ฮิกกิ้นส์</td>\n",
       "      <td>529</td>\n",
       "      <td>538</td>\n",
       "      <td>115035</td>\n",
       "    </tr>\n",
       "    <tr>\n",
       "      <th>1</th>\n",
       "      <td>2</td>\n",
       "      <td>ลูนา 1 เป็นยานอวกาศลำแรกในโครงการลูนาของโซเวีย...</td>\n",
       "      <td>เมชตา</td>\n",
       "      <td>139</td>\n",
       "      <td>144</td>\n",
       "      <td>376583</td>\n",
       "    </tr>\n",
       "    <tr>\n",
       "      <th>2</th>\n",
       "      <td>3</td>\n",
       "      <td>ลูนา 1 เป็นยานอวกาศลำแรกในโครงการลูนาของโซเวีย...</td>\n",
       "      <td>ลมสุริยะ</td>\n",
       "      <td>641</td>\n",
       "      <td>649</td>\n",
       "      <td>376583</td>\n",
       "    </tr>\n",
       "  </tbody>\n",
       "</table>\n",
       "</div>"
      ],
      "text/plain": [
       "   question_id                                           question     answer  \\\n",
       "0            1  สุนัขตัวแรกรับบทเป็นเบนจี้ในภาพยนตร์เรื่อง Ben...  ฮิกกิ้นส์   \n",
       "1            2  ลูนา 1 เป็นยานอวกาศลำแรกในโครงการลูนาของโซเวีย...      เมชตา   \n",
       "2            3  ลูนา 1 เป็นยานอวกาศลำแรกในโครงการลูนาของโซเวีย...   ลมสุริยะ   \n",
       "\n",
       "   answer_begin_position   answer_end_position  article_id  \n",
       "0                     529                  538      115035  \n",
       "1                     139                  144      376583  \n",
       "2                     641                  649      376583  "
      ]
     },
     "execution_count": 9,
     "metadata": {},
     "output_type": "execute_result"
    }
   ],
   "source": [
    "dataset.head(3)"
   ]
  },
  {
   "cell_type": "code",
   "execution_count": 41,
   "metadata": {},
   "outputs": [
    {
     "data": {
      "text/plain": [
       "'สุนัขตัวแรกรับบทเป็นเบนจี้ในภาพยนตร์เรื่อง Benji ที่ออกฉายในปี พ.ศ. 2517 มีชื่อว่าอะไร'"
      ]
     },
     "execution_count": 41,
     "metadata": {},
     "output_type": "execute_result"
    }
   ],
   "source": [
    "dataset.question[0]"
   ]
  },
  {
   "cell_type": "code",
   "execution_count": 37,
   "metadata": {},
   "outputs": [
    {
     "name": "stdout",
     "output_type": "stream",
     "text": [
      "None\n"
     ]
    }
   ],
   "source": [
    "f = open(f\"documents-nsc/{dataset['article_id'][0]}.txt\", \"r\")\n",
    "content = f.read()\n",
    "p = parser2.feed(content)\n",
    "print(p)"
   ]
  },
  {
   "cell_type": "markdown",
   "metadata": {},
   "source": [
    "HTML Parser"
   ]
  },
  {
   "cell_type": "code",
   "execution_count": 15,
   "metadata": {},
   "outputs": [],
   "source": [
    "##No Output"
   ]
  },
  {
   "cell_type": "code",
   "execution_count": 6,
   "metadata": {},
   "outputs": [],
   "source": [
    "from html.parser import HTMLParser\n",
    "parser = HTMLParser()\n",
    "parser.feed('<html><head><title>Test</title></head>'\n",
    "            '<body><h1>Parse me!</h1></body></html>')"
   ]
  },
  {
   "cell_type": "code",
   "execution_count": 9,
   "metadata": {},
   "outputs": [],
   "source": [
    "parser.close()"
   ]
  },
  {
   "cell_type": "code",
   "execution_count": 10,
   "metadata": {},
   "outputs": [],
   "source": [
    "parser.handle_data('<html><head><title>Test</title></head>'\n",
    "            '<body><h1>Parse me!</h1></body></html>')"
   ]
  },
  {
   "cell_type": "code",
   "execution_count": 16,
   "metadata": {},
   "outputs": [],
   "source": [
    "##Has Output"
   ]
  },
  {
   "cell_type": "code",
   "execution_count": 36,
   "metadata": {},
   "outputs": [],
   "source": [
    "from html.parser import HTMLParser\n",
    "class MyHTMLParser(HTMLParser):\n",
    "#    def handle_starttag(self, tag, attrs):\n",
    "#        print(\"Encountered a start tag:\", tag)\n",
    "\n",
    "#    def handle_endtag(self, tag):\n",
    "#        print(\"Encountered an end tag :\", tag)\n",
    "\n",
    "    def handle_data(self, data):\n",
    "        return data\n",
    "        \n",
    "\n",
    "parser2 = MyHTMLParser()"
   ]
  },
  {
   "cell_type": "code",
   "execution_count": 38,
   "metadata": {},
   "outputs": [
    {
     "name": "stdout",
     "output_type": "stream",
     "text": [
      "None\n"
     ]
    }
   ],
   "source": [
    "f = open(f\"documents-nsc/{dataset['article_id'][0]}.txt\", \"r\")\n",
    "content = f.read()\n",
    "p = parser2.feed(content)\n",
    "print(p)\n",
    "#Gives none"
   ]
  },
  {
   "cell_type": "markdown",
   "metadata": {},
   "source": [
    "BS4"
   ]
  },
  {
   "cell_type": "code",
   "execution_count": 135,
   "metadata": {},
   "outputs": [
    {
     "name": "stdout",
     "output_type": "stream",
     "text": [
      "None\n",
      "None\n",
      "ลูนา 1 ลูนา 1 (อี-1 ซีรีส์) ซึ่งในขณะนั้นรู้จักกันในชื่อ เมชตา (; \"ความฝัน\") เป็นยานอวกาศลำแรกที่เดินทางไปถึงบริเวณใกล้เคียงของดวงจันทร์ และเป็นยานอวกาศลำแรกในโครงการลูนาของโซเวียตที่สามารถปล่อยขึ้นไปในทิศทางเดียวกับดวงจันทร์ได้สำเร็จ ขณะเดินทางผ่านแถบรังสีแวนแอลเลนชั้นนอก เครื่องมือตรวจวัดรังสีของยานสามารถตรวจจับอนุภาคพลังงานสูงปริมาณเล็กน้อยที่มีอยู่ในวงแหวนชั้นนอก ค่าที่ได้จากการตรวจวัดดังกล่าวทำให้ได้ข้อมูลใหม่เกี่ยวกับแถบรังสีของโลกและอวกาศ ปรากฏว่าดวงจันทร์ไม่มีสนามแม่เหล็กที่สามารถตรวจพบได้ นอกจากนี้ ลูนา 1 ยังเป็นครั้งแรกที่มีการสังเกตและตรวจวัดลมสุริยะโดยตรง ความเข้มข้นของพลาสมาที่ถูกเปลี่ยนเป็นไอออนดังกล่าววัดปริมาณได้ราว 700 อนุภาคต่อ ลบ.ซม. ที่ระดับความสูง 20,000-25,000 กิโลเมตร และ 300 ถึง 400 อนุภาคต่อ ลบ.ซม. ที่ระดับความสูง 100,000-150,000 กิโลเมตร ลูนา 1 ยังได้มีการติดต่อทางวิทยุเป็นครั้งแรกจากระยะทางครึ่งล้านกิโลเมตรจากพื้นโลก\n",
      "\n"
     ]
    }
   ],
   "source": [
    "from bs4 import BeautifulSoup\n",
    "with open(f\"documents-nsc/{dataset['article_id'][1]}.txt\", \"r\") as f:\n",
    "    \n",
    "    contents = f.read()\n",
    "\n",
    "    soup = BeautifulSoup(contents, 'lxml')\n",
    "\n",
    "    print(soup.h2)\n",
    "    print(soup.head)\n",
    "    print(soup.text)"
   ]
  },
  {
   "cell_type": "code",
   "execution_count": 133,
   "metadata": {},
   "outputs": [
    {
     "name": "stdout",
     "output_type": "stream",
     "text": [
      "html\n",
      "body\n",
      "doc\n"
     ]
    }
   ],
   "source": [
    "#to find structure of text\n",
    "from bs4 import BeautifulSoup\n",
    "\n",
    "f = open(f\"documents-nsc/{dataset['article_id'][0]}.txt\", \"r\")\n",
    "contents = f.read()\n",
    "soup = BeautifulSoup(contents, 'lxml')\n",
    "for child in soup.recursiveChildGenerator():\n",
    "    if child.name:\n",
    "        print(child.name)"
   ]
  },
  {
   "cell_type": "code",
   "execution_count": 136,
   "metadata": {},
   "outputs": [
    {
     "name": "stdout",
     "output_type": "stream",
     "text": [
      "{'id': '376583', 'url': 'https://th.wikipedia.org/wiki?curid=376583', 'title': 'ลูนา 1'}\n"
     ]
    }
   ],
   "source": [
    "print(soup.doc.attrs)"
   ]
  },
  {
   "cell_type": "code",
   "execution_count": 139,
   "metadata": {},
   "outputs": [
    {
     "data": {
      "text/plain": [
       "-1"
      ]
     },
     "execution_count": 139,
     "metadata": {},
     "output_type": "execute_result"
    }
   ],
   "source": [
    "soup.text.find('เมชตา', 58)"
   ]
  },
  {
   "cell_type": "code",
   "execution_count": 141,
   "metadata": {},
   "outputs": [
    {
     "data": {
      "text/plain": [
       "'ะเป็นยานอวกาศลำแรกในโครงการลูนาของโซเวียตที่สามารถปล่อยขึ้นไปในทิศทางเดียวกับดวงจันทร์ได้สำเร็จ ขณะเดินทางผ่านแถบรังสีแวนแอลเลนชั้นนอก เครื่องมือตรวจวัดรังสีของยานสามารถตรวจจับอนุภาคพลังงานสูงปริมาณเล็กน้อยที่มีอยู่ในวงแหวนชั้นนอก ค่าที่ได้จากการตรวจวัดดังกล่าวทำให้ได้ข้อมูลใหม่เกี่ยวกับแถบรังสีของโลกและอวกาศ ปรากฏว่าดวงจันทร์ไม่มีสนามแม่เหล็กที่สามารถตรวจพบได้ นอกจากนี้ ลูนา 1 ยังเป็นครั้งแรกที่มีการสังเกตและตรวจวัดลมสุริยะโดยตรง ความเข้มข้นของพลาสมาที่ถูกเปลี่ยนเป็นไอออนดังกล่าววัดปริมาณได้ราว 700 อนุภาคต่อ ลบ.ซม. ที่ระดับความสูง 20,000-25,000 กิโลเมตร และ 300 ถึง 400 อนุภาคต่อ ลบ.ซม. ที่ระดับความสูง 100,000-150,000 กิโลเมตร ลูนา 1 ยังได้มีการติดต่อทางวิทยุเป็นครั้งแรกจากระยะทางครึ่งล้านกิโลเมตรจากพื้นโลก\\n'"
      ]
     },
     "execution_count": 141,
     "metadata": {},
     "output_type": "execute_result"
    }
   ],
   "source": [
    "soup.text[139:]"
   ]
  },
  {
   "cell_type": "code",
   "execution_count": 70,
   "metadata": {},
   "outputs": [],
   "source": [
    "temp = soup.doc.attrs\n",
    "temp['content'] = soup.text\n",
    "content_df = pd.DataFrame([temp])"
   ]
  },
  {
   "cell_type": "code",
   "execution_count": 79,
   "metadata": {},
   "outputs": [
    {
     "data": {
      "text/plain": [
       "'ายได้ไม่น'"
      ]
     },
     "execution_count": 79,
     "metadata": {},
     "output_type": "execute_result"
    }
   ],
   "source": [
    "content_df.content.values[0] #should be ฮิกกิ้นส์"
   ]
  },
  {
   "cell_type": "code",
   "execution_count": 93,
   "metadata": {
    "scrolled": true
   },
   "outputs": [
    {
     "data": {
      "text/plain": [
       "447"
      ]
     },
     "execution_count": 93,
     "metadata": {},
     "output_type": "execute_result"
    }
   ],
   "source": [
    "content_df.content.values[0].find('ฮิกกิ้นส์') #different from the table"
   ]
  },
  {
   "cell_type": "code",
   "execution_count": 104,
   "metadata": {
    "scrolled": true
   },
   "outputs": [
    {
     "data": {
      "text/plain": [
       "'ฮิกกิ้นส์'"
      ]
     },
     "execution_count": 104,
     "metadata": {},
     "output_type": "execute_result"
    }
   ],
   "source": [
    "content_df.content.values[0][447:(447+538-529)]\n",
    "#the index return is greater, maybe the html is not removed"
   ]
  },
  {
   "cell_type": "code",
   "execution_count": 105,
   "metadata": {},
   "outputs": [
    {
     "data": {
      "text/plain": [
       "82"
      ]
     },
     "execution_count": 105,
     "metadata": {},
     "output_type": "execute_result"
    }
   ],
   "source": [
    "529-447"
   ]
  },
  {
   "cell_type": "code",
   "execution_count": 102,
   "metadata": {},
   "outputs": [
    {
     "data": {
      "text/plain": [
       "35"
      ]
     },
     "execution_count": 102,
     "metadata": {},
     "output_type": "execute_result"
    }
   ],
   "source": [
    "content_df.content.values[0][:447].count(' ')\n",
    "#35 spaces"
   ]
  },
  {
   "cell_type": "code",
   "execution_count": 108,
   "metadata": {},
   "outputs": [
    {
     "data": {
      "text/plain": [
       "2"
      ]
     },
     "execution_count": 108,
     "metadata": {},
     "output_type": "execute_result"
    }
   ],
   "source": [
    "content_df.content.values[0][:447].count('.') #2\n",
    "content_df.content.values[0][:447].count('(') #2\n",
    "content_df.content.values[0][:447].count(')') #2"
   ]
  },
  {
   "cell_type": "code",
   "execution_count": 99,
   "metadata": {},
   "outputs": [
    {
     "name": "stdout",
     "output_type": "stream",
     "text": [
      "{\"question_id\":1,\"question\":\"สุนัขตัวแรกรับบทเป็นเบนจี้ในภาพยนตร์เรื่อง Benji ที่ออกฉายในปี พ.ศ. 2517 มีชื่อว่าอะไร\",\"answer\":\"ฮิกกิ้นส์\",\"answer_begin_position \":529,\"answer_end_position\":538,\"article_id\":115035}\n",
      "{\"question_id\":2,\"question\":\"ลูนา 1 เป็นยานอวกาศลำแรกในโครงการลูนาของโซเวียต มีชื่อเรียกอีกชื่อว่าอะไร\",\"answer\":\"เมชตา\",\"answer_begin_position \":139,\"answer_end_position\":144,\"article_id\":376583}\n",
      "{\"question_id\":3,\"question\":\"ลูนา 1 เป็นยานอวกาศลำแรกในโครงการลูนาของโซเวียต สามารถสังเกตและตรวจวัดอะไรได้โดยตรง\",\"answer\":\"ลมสุริยะ\",\"answer_begin_position \":641,\"answer_end_position\":649,\"article_id\":376583}\n"
     ]
    }
   ],
   "source": [
    "#ok\n",
    "for i in range(dataset.head(3).shape[0]):\n",
    "    print(dataset.head(3).iloc[i].to_json(force_ascii=False))"
   ]
  },
  {
   "cell_type": "code",
   "execution_count": 100,
   "metadata": {
    "scrolled": false
   },
   "outputs": [
    {
     "name": "stdout",
     "output_type": "stream",
     "text": [
      "{\"thai\": \"\\u0e2a\\u0e27\\u0e31\\u0e2a\\u0e14\\u0e35\\u0e04\\u0e48\\u0e30\"}\n",
      "{\"thai\": \"สวัสดีค่ะ\"}\n"
     ]
    }
   ],
   "source": [
    "#for thai to be ok\n",
    "# thank you: https://medium.com/odds-team/เอาภาษาไทย-ใส่-json-ด้วย-python-df12b74b5f78\n",
    "\n",
    "import json\n",
    "content_in_thai={\"thai\": \"สวัสดีค่ะ\"}\n",
    "print(json.dumps(content_in_thai))\n",
    "print(json.dumps(content_in_thai, ensure_ascii=False))"
   ]
  },
  {
   "cell_type": "code",
   "execution_count": 115,
   "metadata": {},
   "outputs": [
    {
     "data": {
      "text/plain": [
       "528"
      ]
     },
     "execution_count": 115,
     "metadata": {},
     "output_type": "execute_result"
    }
   ],
   "source": [
    "contents.find('ฮิกกิ้นส์') #true.. data is not cleaned any where before"
   ]
  },
  {
   "cell_type": "code",
   "execution_count": 118,
   "metadata": {},
   "outputs": [
    {
     "data": {
      "text/plain": [
       "'ิกกิ้นส์ '"
      ]
     },
     "execution_count": 118,
     "metadata": {},
     "output_type": "execute_result"
    }
   ],
   "source": [
    "contents[529:538] #with index given by the data"
   ]
  },
  {
   "cell_type": "code",
   "execution_count": 111,
   "metadata": {},
   "outputs": [],
   "source": [
    "import re\n",
    "\n",
    "def text_prepare(text):\n",
    "    text = re.sub('[^ก-๙‘’“”]', '', text)\n",
    "    return text"
   ]
  },
  {
   "cell_type": "markdown",
   "metadata": {},
   "source": [
    "# NEW######################"
   ]
  },
  {
   "cell_type": "code",
   "execution_count": 1,
   "metadata": {},
   "outputs": [],
   "source": [
    "import pandas as pd"
   ]
  },
  {
   "cell_type": "code",
   "execution_count": 2,
   "metadata": {},
   "outputs": [],
   "source": [
    "df = pd.read_json('ThaiQACorpus-DevelopmentDataset.json')\n",
    "#used for later"
   ]
  },
  {
   "cell_type": "code",
   "execution_count": 3,
   "metadata": {},
   "outputs": [],
   "source": [
    "q1 = df.data.values[0]\n",
    "\n",
    "#Used for exploring data\n",
    "dataset = pd.DataFrame(pd.DataFrame(q1,index=[0]))\n",
    "j = 1\n",
    "for row in df.data.values[1:]:\n",
    "    temp = pd.DataFrame(row,index=[j])\n",
    "    dataset = dataset.append(temp)\n",
    "    j = j+1"
   ]
  },
  {
   "cell_type": "code",
   "execution_count": null,
   "metadata": {},
   "outputs": [],
   "source": [
    "dataset.columns"
   ]
  },
  {
   "cell_type": "code",
   "execution_count": null,
   "metadata": {},
   "outputs": [],
   "source": [
    "dataset.head(3)"
   ]
  },
  {
   "cell_type": "code",
   "execution_count": 25,
   "metadata": {
    "collapsed": true
   },
   "outputs": [
    {
     "data": {
      "text/plain": [
       "{'question_id': 1,\n",
       " 'question': 'สุนัขตัวแรกรับบทเป็นเบนจี้ในภาพยนตร์เรื่อง Benji ที่ออกฉายในปี พ.ศ. 2517 มีชื่อว่าอะไร',\n",
       " 'answer': 'ฮิกกิ้นส์',\n",
       " 'answer_begin_position ': 529,\n",
       " 'answer_end_position': 538,\n",
       " 'article_id': 115035}"
      ]
     },
     "execution_count": 25,
     "metadata": {},
     "output_type": "execute_result"
    }
   ],
   "source": [
    "df.data[0]"
   ]
  },
  {
   "cell_type": "code",
   "execution_count": 171,
   "metadata": {
    "collapsed": true
   },
   "outputs": [
    {
     "name": "stdout",
     "output_type": "stream",
     "text": [
      "question:  สุนัขตัวแรกรับบทเป็นเบนจี้ในภาพยนตร์เรื่อง Benji ที่ออกฉายในปี พ.ศ. 2517 มีชื่อว่าอะไร\n",
      "answer:  ฮิกกิ้นส์\n",
      "answer position as given: \n",
      "529 %%% 538 %%% ิกกิ้นส์ \n",
      "actual answer position from given answer: \n",
      "528\n",
      "with actual position and given answer length: \n",
      "with given indices:  528 %%% 537 %%% ฮิกกิ้นส์\n",
      "from string count:  528 %%% 537 %%% ฮิกกิ้นส์ \n",
      "\n",
      "question:  ลูนา 1 เป็นยานอวกาศลำแรกในโครงการลูนาของโซเวียต มีชื่อเรียกอีกชื่อว่าอะไร\n",
      "answer:  เมชตา\n",
      "answer position as given: \n",
      "139 %%% 144 %%% มชตา \n",
      "actual answer position from given answer: \n",
      "138\n",
      "with actual position and given answer length: \n",
      "with given indices:  138 %%% 143 %%% เมชตา\n",
      "from string count:  138 %%% 143 %%% เมชตา \n",
      "\n",
      "question:  ลูนา 1 เป็นยานอวกาศลำแรกในโครงการลูนาของโซเวียต สามารถสังเกตและตรวจวัดอะไรได้โดยตรง\n",
      "answer:  ลมสุริยะ\n",
      "answer position as given: \n",
      "641 %%% 649 %%% มสุริยะโ\n",
      "actual answer position from given answer: \n",
      "640\n",
      "with actual position and given answer length: \n",
      "with given indices:  640 %%% 648 %%% ลมสุริยะ\n",
      "from string count:  640 %%% 648 %%% ลมสุริยะ \n",
      "\n",
      "question:  กระทรวงโฆษณาแถลงข่าวและโฆษณาชวนเชื่อของนาซีเยอรมนี ก่อตั้งขึ้นในปี ค.ศ. ใด\n",
      "answer:  ปี 1933\n",
      "answer position as given: \n",
      "304 %%% 311 %%% ี 1933 \n",
      "actual answer position from given answer: \n",
      "303\n",
      "with actual position and given answer length: \n",
      "with given indices:  303 %%% 310 %%% ปี 1933\n",
      "from string count:  303 %%% 310 %%% ปี 1933 \n",
      "\n",
      "question:  ห้องทำงานรูปไข่ สร้างขึ้นในสมัยอดีตประธานาธิบดีคนใดของสหรัฐอเมริกา\n",
      "answer:  ประธานาธิบดีวิลเลียม เอช. ทัฟต์\n",
      "answer position as given: \n",
      "231 %%% 262 %%% ระธานาธิบดีวิลเลียม เอช. ทัฟต์ \n",
      "actual answer position from given answer: \n",
      "230\n",
      "with actual position and given answer length: \n",
      "with given indices:  230 %%% 261 %%% ประธานาธิบดีวิลเลียม เอช. ทัฟต์\n",
      "from string count:  230 %%% 261 %%% ประธานาธิบดีวิลเลียม เอช. ทัฟต์ \n",
      "\n",
      "question:  เครื่องอิสริยาภรณ์ดารามหาปุตราเป็นเครื่องอิสริยาภรณ์ของประเทศอินโดนีเซียมีลำดับเกียรติเป็นอันดับที่เท่าไร\n",
      "answer:  อันดับที่ 2\n",
      "answer position as given: \n",
      "230 %%% 241 %%% ันดับที่ 2 \n",
      "actual answer position from given answer: \n",
      "229\n",
      "with actual position and given answer length: \n",
      "with given indices:  229 %%% 240 %%% อันดับที่ 2\n",
      "from string count:  229 %%% 240 %%% อันดับที่ 2 \n",
      "\n",
      "question:  เครื่องอิสริยาภรณ์ดารามหาปุตรา เป็นเครื่องอิสริยาภรณ์ฯ ของประเทศอะไร\n",
      "answer:  ประเทศอินโดนีเซีย\n",
      "answer position as given: \n",
      "245 %%% 262 %%% ระเทศอินโดนีเซีย \n",
      "actual answer position from given answer: \n",
      "244\n",
      "with actual position and given answer length: \n",
      "with given indices:  244 %%% 261 %%% ประเทศอินโดนีเซีย\n",
      "from string count:  244 %%% 261 %%% ประเทศอินโดนีเซีย \n",
      "\n",
      "question:  เรจโจเอมีเลียเป็นเมืองในแคว้นใดในภาคเหนือของประเทศอิตาลี\n",
      "answer:  แคว้นเอมีเลีย-โรมัญญา\n",
      "answer position as given: \n",
      "153 %%% 174 %%% คว้นเอมีเลีย-โรมัญญา \n",
      "actual answer position from given answer: \n",
      "152\n",
      "with actual position and given answer length: \n",
      "with given indices:  152 %%% 173 %%% แคว้นเอมีเลีย-โรมัญญา\n",
      "from string count:  152 %%% 173 %%% แคว้นเอมีเลีย-โรมัญญา \n",
      "\n",
      "question:  พิกซาร์สตูดิโอสร้างคอมพิวเตอร์แอนิแมชันสัญชาติอเมริกัน ตั้งอยู่ที่เมืองอะไร\n",
      "answer:  เมืองเอเมอรีวิลล์\n",
      "answer position as given: \n",
      "198 %%% 215 %%% มืองเอเมอรีวิลล์ \n",
      "actual answer position from given answer: \n",
      "197\n",
      "with actual position and given answer length: \n",
      "with given indices:  197 %%% 214 %%% เมืองเอเมอรีวิลล์\n",
      "from string count:  197 %%% 214 %%% เมืองเอเมอรีวิลล์ \n",
      "\n",
      "question:  พิกซาร์ สตูดิโอสร้างคอมพิวเตอร์แอนิแมชันสัญชาติอเมริกัน ในปัจจุบันเป็นส่วนหนึ่งของบริษัทอะไร\n",
      "answer:  บริษัทเดอะวอลต์ดิสนีย์\n",
      "answer position as given: \n",
      "256 %%% 278 %%% ริษัทเดอะวอลต์ดิสนีย์ภ\n",
      "actual answer position from given answer: \n",
      "255\n",
      "with actual position and given answer length: \n",
      "with given indices:  255 %%% 277 %%% บริษัทเดอะวอลต์ดิสนีย์\n",
      "from string count:  255 %%% 277 %%% บริษัทเดอะวอลต์ดิสนีย์ \n",
      "\n"
     ]
    }
   ],
   "source": [
    "ans_begin_pos = dataset['answer_begin_position ']\n",
    "ans_end_pos = dataset['answer_end_position']\n",
    "\n",
    "for i in range(0,10):\n",
    "    f = open(f\"documents-nsc/{dataset['article_id'][i]}.txt\", \"r\")\n",
    "    content = f.read() #returns the context/paragraph\n",
    "    print(\"question: \", dataset['question'][i])\n",
    "    \n",
    "    print(\"answer: \", dataset['answer'][i])\n",
    "    \n",
    "    print(\"answer position as given: \")\n",
    "    start = dataset['answer_begin_position '][i]\n",
    "    end = dataset['answer_end_position'][i]               \n",
    "    print(start,'%%%' ,end,'%%%' ,content[start:end])\n",
    "                    \n",
    "    print(\"actual answer position from given answer: \")\n",
    "    ans = dataset['answer'][i]\n",
    "    idx = content.find(ans)\n",
    "    print(idx)\n",
    "    \n",
    "    print(\"with actual position and given answer length: \")\n",
    "    print('with given indices: ', idx,'%%%' ,idx+end-start,'%%%' ,content[idx:idx+end-start])\n",
    "    print('from string count: ', idx,'%%%' ,idx+len(ans),'%%%' ,content[idx:idx+len(ans)], '\\n')"
   ]
  },
  {
   "cell_type": "markdown",
   "metadata": {},
   "source": [
    "def sameAns(ans, beg, end, content):\n",
    "    #get content file\n",
    "    #get answer\n",
    "    #get beg idx\n",
    "    #get end idx\n",
    "    #content[start-1,end-1]\n",
    "    #compare with ans\n",
    "    b = (content[beg-1:end-1]==ans)\n",
    "    if b!=True:\n",
    "         #if not same return new index of answer\n",
    "        idx = content.find(ans)\n",
    "        return [idx,idx+len(ans)]\n",
    "    return True\n",
    "    "
   ]
  },
  {
   "cell_type": "code",
   "execution_count": 24,
   "metadata": {},
   "outputs": [
    {
     "name": "stdout",
     "output_type": "stream",
     "text": [
      "0\n",
      "1\n",
      "2\n",
      "3\n",
      "4\n",
      "5\n",
      "6\n",
      "7\n",
      "8\n",
      "9\n",
      "10\n",
      "11\n",
      "12\n",
      "13\n",
      "14\n",
      "15\n",
      "16\n",
      "17\n",
      "18\n",
      "19\n",
      "True\n"
     ]
    }
   ],
   "source": [
    "#all beg and end idxs have to be -1\n",
    "\n",
    "#run check function below\n",
    "import numpy as np\n",
    "\n",
    "def sameAns(ans, beg, end, content):\n",
    "    #get content file\n",
    "    #get answer\n",
    "    #get beg idx\n",
    "    #get end idx\n",
    "    #content[start-1,end-1]\n",
    "    #compare with ans\n",
    "    b = (content[beg-1:end-1]==ans)\n",
    "    return b\n",
    "\n",
    "arr = np.array([])\n",
    "\n",
    "for i in range(dataset.shape[0]):\n",
    "    beg = dataset['answer_begin_position '][i]\n",
    "    end = dataset['answer_end_position'][i] \n",
    "    ans = dataset['answer'][i]\n",
    "    f = open(f\"documents-nsc/{dataset['article_id'][i]}.txt\", \"r\")\n",
    "    content = f.read()\n",
    "    np.append(arr,sameAns(ans,beg,end,content))\n",
    "    if i<20:\n",
    "        print(i)\n",
    "    \n",
    "print(all(arr))"
   ]
  },
  {
   "cell_type": "markdown",
   "metadata": {},
   "source": [
    "# CONVERT DATA TO .JSON"
   ]
  },
  {
   "cell_type": "code",
   "execution_count": 1,
   "metadata": {},
   "outputs": [],
   "source": [
    "import json\n",
    "\n",
    "data_path = 'ThaiQACorpus-DevelopmentDataset.json'\n",
    "\n",
    "with open(data_path) as f:\n",
    "    raw_data = json.load(f)"
   ]
  },
  {
   "cell_type": "code",
   "execution_count": 2,
   "metadata": {},
   "outputs": [
    {
     "data": {
      "text/plain": [
       "dict_keys(['version', 'data_set_name', 'data'])"
      ]
     },
     "execution_count": 2,
     "metadata": {},
     "output_type": "execute_result"
    }
   ],
   "source": [
    "raw_data.keys()"
   ]
  },
  {
   "cell_type": "code",
   "execution_count": 3,
   "metadata": {},
   "outputs": [
    {
     "name": "stdout",
     "output_type": "stream",
     "text": [
      "<class 'list'>\n",
      "4000\n",
      "{'question_id': 1, 'question': 'สุนัขตัวแรกรับบทเป็นเบนจี้ในภาพยนตร์เรื่อง Benji ที่ออกฉายในปี พ.ศ. 2517 มีชื่อว่าอะไร', 'answer': 'ฮิกกิ้นส์', 'answer_begin_position ': 529, 'answer_end_position': 538, 'article_id': 115035}\n"
     ]
    }
   ],
   "source": [
    "print(type(raw_data['data'])) #list\n",
    "print(len(raw_data['data'])) #4000\n",
    "print(raw_data['data'][0]) #a single question answer set"
   ]
  },
  {
   "cell_type": "code",
   "execution_count": 4,
   "metadata": {},
   "outputs": [],
   "source": [
    "#add new_beg_idx, new_end_idx\n",
    "for i in range(len(raw_data['data'])):\n",
    "    start = raw_data['data'][i]['answer_begin_position ']\n",
    "    end = raw_data['data'][i]['answer_end_position']\n",
    "    raw_data['data'][i]['new_beg_idx'] = start-1\n",
    "    raw_data['data'][i]['new_end_idx'] = end-1\n",
    "    \n",
    "    f = open(f\"documents-nsc/{raw_data['data'][i]['article_id']}.txt\", \"r\")\n",
    "    content = f.read()\n",
    "    raw_data['data'][i]['context'] = content"
   ]
  },
  {
   "cell_type": "code",
   "execution_count": 16,
   "metadata": {},
   "outputs": [],
   "source": [
    "count = 0\n",
    "index_not_exceed_maxlen = []\n",
    "for i in range(len(raw_data['data'])):\n",
    "    if len(raw_data['data'][i]['context'])<=384:\n",
    "        count += 1\n",
    "        index_not_exceed_maxlen.append(i)"
   ]
  },
  {
   "cell_type": "code",
   "execution_count": 17,
   "metadata": {
    "scrolled": true
   },
   "outputs": [
    {
     "data": {
      "text/plain": [
       "136"
      ]
     },
     "execution_count": 17,
     "metadata": {},
     "output_type": "execute_result"
    }
   ],
   "source": [
    "count"
   ]
  },
  {
   "cell_type": "code",
   "execution_count": 18,
   "metadata": {
    "scrolled": true
   },
   "outputs": [
    {
     "data": {
      "text/plain": [
       "[7,\n",
       " 11,\n",
       " 12,\n",
       " 13,\n",
       " 14,\n",
       " 17,\n",
       " 85,\n",
       " 88,\n",
       " 89,\n",
       " 107,\n",
       " 112,\n",
       " 113,\n",
       " 159,\n",
       " 267,\n",
       " 357,\n",
       " 475,\n",
       " 476,\n",
       " 481,\n",
       " 482,\n",
       " 492,\n",
       " 586,\n",
       " 587,\n",
       " 590,\n",
       " 643,\n",
       " 644,\n",
       " 694,\n",
       " 695,\n",
       " 727,\n",
       " 892,\n",
       " 1062,\n",
       " 1221,\n",
       " 1222,\n",
       " 1268,\n",
       " 1269,\n",
       " 1328,\n",
       " 1365,\n",
       " 1375,\n",
       " 1388,\n",
       " 1398,\n",
       " 1533,\n",
       " 1584,\n",
       " 1681,\n",
       " 1755,\n",
       " 1808,\n",
       " 1874,\n",
       " 1953,\n",
       " 2143,\n",
       " 2288,\n",
       " 2305,\n",
       " 2371,\n",
       " 2507,\n",
       " 2508,\n",
       " 2516,\n",
       " 2520,\n",
       " 2570,\n",
       " 2710,\n",
       " 2742,\n",
       " 2751,\n",
       " 2753,\n",
       " 2754,\n",
       " 2762,\n",
       " 2763,\n",
       " 2769,\n",
       " 2777,\n",
       " 2783,\n",
       " 2788,\n",
       " 2842,\n",
       " 2843,\n",
       " 2854,\n",
       " 2855,\n",
       " 2858,\n",
       " 2870,\n",
       " 2894,\n",
       " 2895,\n",
       " 2899,\n",
       " 2900,\n",
       " 2908,\n",
       " 2909,\n",
       " 2910,\n",
       " 2916,\n",
       " 2917,\n",
       " 2933,\n",
       " 2978,\n",
       " 2979,\n",
       " 2986,\n",
       " 3004,\n",
       " 3033,\n",
       " 3040,\n",
       " 3041,\n",
       " 3042,\n",
       " 3056,\n",
       " 3152,\n",
       " 3153,\n",
       " 3181,\n",
       " 3182,\n",
       " 3190,\n",
       " 3191,\n",
       " 3194,\n",
       " 3196,\n",
       " 3209,\n",
       " 3210,\n",
       " 3269,\n",
       " 3292,\n",
       " 3293,\n",
       " 3333,\n",
       " 3343,\n",
       " 3360,\n",
       " 3361,\n",
       " 3435,\n",
       " 3449,\n",
       " 3494,\n",
       " 3505,\n",
       " 3557,\n",
       " 3562,\n",
       " 3564,\n",
       " 3637,\n",
       " 3672,\n",
       " 3710,\n",
       " 3711,\n",
       " 3712,\n",
       " 3721,\n",
       " 3722,\n",
       " 3726,\n",
       " 3731,\n",
       " 3745,\n",
       " 3757,\n",
       " 3774,\n",
       " 3775,\n",
       " 3789,\n",
       " 3790,\n",
       " 3815,\n",
       " 3820,\n",
       " 3832,\n",
       " 3842,\n",
       " 3913,\n",
       " 3919]"
      ]
     },
     "execution_count": 18,
     "metadata": {},
     "output_type": "execute_result"
    }
   ],
   "source": [
    "index_not_exceed_maxlen"
   ]
  },
  {
   "cell_type": "code",
   "execution_count": 5,
   "metadata": {
    "scrolled": true
   },
   "outputs": [
    {
     "name": "stdout",
     "output_type": "stream",
     "text": [
      "{'question_id': 1, 'question': 'สุนัขตัวแรกรับบทเป็นเบนจี้ในภาพยนตร์เรื่อง Benji ที่ออกฉายในปี พ.ศ. 2517 มีชื่อว่าอะไร', 'answer': 'ฮิกกิ้นส์', 'answer_begin_position ': 529, 'answer_end_position': 538, 'article_id': 115035, 'new_beg_idx': 528, 'new_end_idx': 537, 'context': '<doc id=\"115035\" url=\"https://th.wikipedia.org/wiki?curid=115035\" title=\"เบนจี้\">เบนจี้ เบนจี้ () เป็นชื่อตัวละครหมาพันทางแสนรู้ ที่ปรากฏอยู่ในภาพยนตร์หลายเรื่องที่เขียนบท และกำกับโดย โจ แคมป์ ในช่วงทศวรรษ 1970 ถึง 1980 ภาพยนตร์เรื่องแรกในชุด ใช้ชื่อเรื่องว่า เบนจี้ เช่นเดียวกับตัวละคร ถ่ายทำที่เมืองดัลลัส รัฐเทกซัส ฉายครั้งแรกในปี พ.ศ. 2517 ภาพยนตร์ได้รับการเสนอชื่อเข้าชิงรางวัลออสการ์ และได้รางวัลลูกโลกทองคำ สาขาเพลงประกอบยอดเยี่ยม จากเพลง Benji\\'s Theme (I Feel Love) ร้องโดย ชาร์ลี ริช หมาที่แสดงเป็นเบนจี้ตัวแรก ชื่อว่า ฮิกกิ้นส์ (พ.ศ. 2502 - พ.ศ. 2518) มีอายุถึง 15 ปีแล้วในขณะแสดง หลังจากภาพยนตร์ออกฉายได้ไม่นาน มันก็ตายในปี พ.ศ. 2518เบนจี้ในภาพยนตร์เบนจี้ในภาพยนตร์. - พ.ศ. 2517, Benji (ภาพยนตร์) - พ.ศ. 2520, For the Love of Benji (ภาพยนตร์) - พ.ศ. 2521, Benji\\'s Very Own Christmas Story (ภาพยนตร์โทรทัศน์) - พ.ศ. 2523, Oh Heavenly Dog (ภาพยนตร์) - พ.ศ. 2523, Benji at Work (ภาพยนตร์โทรทัศน์) - พ.ศ. 2524, Benji Takes a Dive at Marineland (ภาพยนตร์โทรทัศน์) - พ.ศ. 2526, Benji, Zax & the Alien Prince (ภาพยนตร์ซีรีส์) - พ.ศ. 2530, Benji the Hunted (ภาพยนตร์) - พ.ศ. 2547, Benji: Off the Leash! (ภาพยนตร์) - พ.ศ. 2550, Benji: The Barkening (ภาพยนตร์)</doc>\\n'}\n"
     ]
    }
   ],
   "source": [
    "print(raw_data['data'][0]) #added new_beg_idx, new_end_idx"
   ]
  },
  {
   "cell_type": "code",
   "execution_count": null,
   "metadata": {},
   "outputs": [],
   "source": [
    "old_start = raw_data['data'][0]['answer_begin_position ']\n",
    "old_end = raw_data['data'][0]['answer_end_position']\n",
    "print(raw_data['data'][0]['context'][old_start]"
   ]
  },
  {
   "cell_type": "code",
   "execution_count": 10,
   "metadata": {},
   "outputs": [],
   "source": [
    "import json\n",
    "\n",
    "f = open(\"qa_dataset_new.json\", \"w\")\n",
    "f.write(json.dumps(raw_data, ensure_ascii=False)) #since raw data has changed\n",
    "f.close()"
   ]
  },
  {
   "cell_type": "code",
   "execution_count": 20,
   "metadata": {},
   "outputs": [
    {
     "data": {
      "text/plain": [
       "4000"
      ]
     },
     "execution_count": 20,
     "metadata": {},
     "output_type": "execute_result"
    }
   ],
   "source": [
    "len(raw_data['data'])"
   ]
  },
  {
   "cell_type": "code",
   "execution_count": 21,
   "metadata": {},
   "outputs": [
    {
     "data": {
      "text/plain": [
       "'คิม ยอน-คยอง นักกีฬาวอลเลย์บอลหญิงทีมชาติเกาหลีใต้ เรียนชั้นมัธยมปลายที่โรงเรียนอะไร'"
      ]
     },
     "execution_count": 21,
     "metadata": {},
     "output_type": "execute_result"
    }
   ],
   "source": [
    "raw_data['data'][90]['question']"
   ]
  },
  {
   "cell_type": "code",
   "execution_count": 1,
   "metadata": {},
   "outputs": [],
   "source": [
    "import time"
   ]
  },
  {
   "cell_type": "code",
   "execution_count": 3,
   "metadata": {},
   "outputs": [],
   "source": [
    "start = time.time()"
   ]
  },
  {
   "cell_type": "code",
   "execution_count": 6,
   "metadata": {},
   "outputs": [
    {
     "name": "stdout",
     "output_type": "stream",
     "text": [
      "Processing time: 48.050565004348755 s\n"
     ]
    }
   ],
   "source": [
    "print('Processing time:',time.time()-start, 's')"
   ]
  },
  {
   "cell_type": "code",
   "execution_count": null,
   "metadata": {},
   "outputs": [],
   "source": []
  }
 ],
 "metadata": {
  "kernelspec": {
   "display_name": "Python 3",
   "language": "python",
   "name": "python3"
  },
  "language_info": {
   "codemirror_mode": {
    "name": "ipython",
    "version": 3
   },
   "file_extension": ".py",
   "mimetype": "text/x-python",
   "name": "python",
   "nbconvert_exporter": "python",
   "pygments_lexer": "ipython3",
   "version": "3.7.6"
  }
 },
 "nbformat": 4,
 "nbformat_minor": 4
}
